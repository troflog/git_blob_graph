import graphviz
dot= graphviz.Digraph('trond',comment='Eg er stor')
dot.attr(rankdir='LR',bgcolor='#f7edd2ed')

html_table_string = '''<<TABLE>
 <TR>
   <TD>left</TD>
   <TD>right</TD>
 </TR>
</TABLE>>'''  

   
  




with dot.subgraph(name='cluster_commit') as c:
    c.attr(fillcolor='#c7c7c7',style='filled',label='commits')
    c.node('C1','Commit 1')
    c.node('C2','Commit 2')
    

with dot.subgraph(name='cluster_tree') as t:
    t.attr(style='filled', fillcolor='#adada1',label='trees')    
    t.node_attr.update(shape='box')    
    t.node('T1',"Tree1")
    t.node('T2',label = html_table_string)

with dot.subgraph(name='cluster_blob') as b:
    b.attr(style='filled',fillcolor='#cfdbc3' ,label='blobs')
    b.node_attr.update(shape='box')
    b.node('B1',"Blob1")
    b.node('B2',"Blob2")
   
dot.edge('C1','C2') 
dot.edge('C1','T1',color='#a37575')
dot.edge('C2','T2',color='green')
dot.edge('T1','B1',color='green')
dot.edge('T2','B1',color='blue')
dot.edge('T2','B2',color='blue')

dot.save('petter.dot')



print(dot)
#print(dot)k
#dot.render(directory='doctest-output', view=True)  
dot


print(dot)


import matplotlib.pyplot as plt
import matplotlib.colors as mcolors

# Create a colormap from blue to red to green
cmap = plt.get_cmap('RdYlBu_r')

# Choose 40 equally spaced points from the colormap
colors = [mcolors.to_hex(cmap(i / 40)) for i in range(40)]

# Create a bar plot with the colors
#fig, ax = plt.subplots(figsize=(10, 1))
#ax.imshow([colors], aspect='auto', cmap=cmap)

# Remove the y-axis ticks and labels
#ax.set_yticks([])
#ax.set_yticklabels([])

# Show the plot
#plt.show()
print(colors)


import graphviz

# Create a graph
graph = graphviz.Digraph('MyGraph')

# Add a node with an HTML label
node_html_label = '''
<<TABLE BORDER="0" CELLBORDER="1" CELLSPACING="0">
  <TR>
    <TD>Node</TD>
  </TR>
  <TR>
    <TD PORT="port1">HTML</TD>
  </TR>
</TABLE>>
'''

graph.node('A', label=node_html_label)

# Add another node without HTML label
graph.node('B', 'Regular Node')

# Add an edge
graph.edge('A:port1', 'B', 'Edge from HTML-labeled node to Regular Node')
print(graph)
graph




