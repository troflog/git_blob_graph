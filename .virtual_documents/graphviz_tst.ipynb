import graphviz
dot= graphviz.Digraph('trond',comment='Eg er stor')
dot.attr(rankdir='LR')


with dot.subgraph(name='cluster_commit') as c:
    c.attr(fillcolor='lightgrey',style='filled',label='commits')
    c.node('C1','Commit 1')
    c.node('C2','Commit 2')
    

with dot.subgraph(name='cluster_tree') as t:
    t.attr(style='filled', fillcolor='lightblue',label='trees')    
    t.node_attr.update(shape='box')
    t.node('T1',"Tree1")
    t.node('T2',"Tree2")

with dot.subgraph(name='cluster_blob') as b:
    b.attr(style='filled',fillcolor='beige',label='blobs')
    b.node_attr.update(shape='box')
    b.node('B1',"Blob1")
    b.node('B2',"Blob2")
   
dot.edge('C1','C2',color='green') 
dot.edge('C1','T1',color='green')
dot.edge('C2','T2',color='green')
dot.edge('T1','B1',color='green')
dot.edge('T2','B1',color='green')
dot.edge('T2','B2',color='green')



#print(dot)
#print(dot)k
#dot.render(directory='doctest-output', view=True)  
dot


print(dot)


import matplotlib.pyplot as plt
import matplotlib.colors as mcolors

# Create a colormap from blue to red to green
cmap = plt.get_cmap('RdYlBu_r')

# Choose 40 equally spaced points from the colormap
colors = [mcolors.to_hex(cmap(i / 40)) for i in range(40)]

# Create a bar plot with the colors
#fig, ax = plt.subplots(figsize=(10, 1))
#ax.imshow([colors], aspect='auto', cmap=cmap)

# Remove the y-axis ticks and labels
#ax.set_yticks([])
#ax.set_yticklabels([])

# Show the plot
#plt.show()
print(colors)



