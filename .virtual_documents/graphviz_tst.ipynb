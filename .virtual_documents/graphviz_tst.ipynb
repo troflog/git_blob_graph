import graphviz
dot= graphviz.Digraph('trond',comment='Eg er stor')


dot.node('C1','Commit 1')
dot.node('C2','Commit 2')
dot.node('C2','Commiter 2',color='blue')
dot.edge('C1','C2',color='green')
print(dot)
#print(dot)k
#dot.render(directory='doctest-output', view=True)  
dot


dot
